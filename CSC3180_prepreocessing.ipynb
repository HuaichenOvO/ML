{
  "nbformat": 4,
  "nbformat_minor": 0,
  "metadata": {
    "colab": {
      "name": "CSC3180_prepreocessing.ipynb",
      "provenance": [],
      "collapsed_sections": [],
      "authorship_tag": "ABX9TyO3Bdohd01zYm3ncbRtSP6l",
      "include_colab_link": true
    },
    "kernelspec": {
      "name": "python3",
      "display_name": "Python 3"
    },
    "language_info": {
      "name": "python"
    }
  },
  "cells": [
    {
      "cell_type": "markdown",
      "metadata": {
        "id": "view-in-github",
        "colab_type": "text"
      },
      "source": [
        "<a href=\"https://colab.research.google.com/github/HuaichenOvO/ML/blob/main/CSC3180_prepreocessing.ipynb\" target=\"_parent\"><img src=\"https://colab.research.google.com/assets/colab-badge.svg\" alt=\"Open In Colab\"/></a>"
      ]
    },
    {
      "cell_type": "markdown",
      "source": [
        "致力于使用机器学习来为房价预测提供公正的、透明的模型。与中介无关，本模型用以帮助普通人。\n",
        "\n",
        "本PJ的亮点在于它\n",
        "技术上实现了xxx\n",
        "结论上发现了xxx\n",
        "\n",
        "<!-- bayesian thinking:\n",
        "如果房价受A因素的波动显著地高于其他房子的平均水平，那么可以认为此时期内，A相关的 -->"
      ],
      "metadata": {
        "id": "5Owknrf0wJoF"
      }
    },
    {
      "cell_type": "code",
      "source": [
        "import numpy as np\n",
        "import pandas as pd\n",
        "import seaborn as sns\n",
        "import matplotlib.pyplot as plt\n",
        "\n",
        "import warnings\n",
        "warnings.filterwarnings('ignore')"
      ],
      "metadata": {
        "id": "gKVujwdNhDnQ"
      },
      "execution_count": 76,
      "outputs": []
    },
    {
      "cell_type": "code",
      "execution_count": 77,
      "metadata": {
        "id": "traVP3-nveOW"
      },
      "outputs": [],
      "source": [
        "import hashlib\n",
        "import os\n",
        "import tarfile\n",
        "import zipfile\n",
        "import requests\n",
        "\n",
        "\n",
        "\n",
        "DATA_HUB = dict()\n",
        "DATA_URL = 'http://d2l-data.s3-accelerate.amazonaws.com/'\n",
        "\n",
        "def download(name, cache_dir=os.path.join('..', 'data')): \n",
        "    \"\"\"下载一个DATA_HUB中的文件，返回本地文件名。\"\"\"\n",
        "    assert name in DATA_HUB, f\"{name} 不存在于 {DATA_HUB}.\"\n",
        "    url, sha1_hash = DATA_HUB[name]\n",
        "    os.makedirs(cache_dir, exist_ok=True)\n",
        "    fname = os.path.join(cache_dir, url.split('/')[-1])\n",
        "    if os.path.exists(fname):\n",
        "        sha1 = hashlib.sha1()\n",
        "        with open(fname, 'rb') as f:\n",
        "            while True:\n",
        "                data = f.read(1048576)\n",
        "                if not data:\n",
        "                    break\n",
        "                sha1.update(data)\n",
        "        if sha1.hexdigest() == sha1_hash:\n",
        "            return fname  # Hit cache\n",
        "    print(f'正在从{url}下载{fname}...')\n",
        "    r = requests.get(url, stream=True, verify=True)\n",
        "    with open(fname, 'wb') as f:\n",
        "        f.write(r.content)\n",
        "    return fname\n",
        "\n",
        "def download_extract(name, folder=None):\n",
        "    fname = download(name)\n",
        "    base_dir = os.path.dirname(fname)\n",
        "    data_dir, ext = os.path.splitext(fname)\n",
        "    if ext == '.zip':\n",
        "        fp = zipfile.ZipFile(fname, 'r')\n",
        "    elif ext in ('.tar', '.gz'):\n",
        "        fp = tarfile.open(fname, 'r')\n",
        "    else:\n",
        "        assert False, '只有zip/tar文件可以被解压缩。'\n",
        "    fp.extractall(base_dir)\n",
        "    return os.path.join(base_dir, folder) if folder else data_dir\n",
        "\n",
        "def download_all():\n",
        "    \"\"\"下载DATA_HUB中的所有文件。\"\"\"\n",
        "    for name in DATA_HUB:\n",
        "        download(name)"
      ]
    },
    {
      "cell_type": "code",
      "source": [
        "# !pip install d2l\n",
        "# !pip install matplotlib==3.0.0\n",
        "# !pip install --upgrade mxnet\n",
        "# !pip install autogluon\n",
        "# !pip install torch"
      ],
      "metadata": {
        "id": "vW9qZIcqaSsR"
      },
      "execution_count": 78,
      "outputs": []
    },
    {
      "cell_type": "code",
      "source": [
        "%matplotlib inline\n",
        "import numpy as np\n",
        "import pandas as pd\n",
        "import torch\n",
        "from torch import nn\n",
        "from d2l import torch as d2l\n",
        "\n",
        "DATA_HUB['kaggle_house_train'] = (  \n",
        "    DATA_URL + 'kaggle_house_pred_train.csv',\n",
        "    '585e9cc93e70b39160e7921475f9bcd7d31219ce')\n",
        "\n",
        "DATA_HUB['kaggle_house_test'] = (  \n",
        "    DATA_URL + 'kaggle_house_pred_test.csv',\n",
        "    'fa19780a7b011d9b009e8bff8e99922a8ee2eb90')\n",
        "\n",
        "train_data = pd.read_csv(download('kaggle_house_train'))\n",
        "test_data = pd.read_csv(download('kaggle_house_test'))"
      ],
      "metadata": {
        "id": "N_RSXvJLaLcJ"
      },
      "execution_count": 215,
      "outputs": []
    },
    {
      "cell_type": "code",
      "source": [
        "\"\"\"\n",
        "数据可视化 了解大概印象\n",
        "\"\"\"\n",
        "\n",
        "# train_data.info()\n",
        "# train_data.head(2)\n",
        "# train_data['SalePrice']\n",
        "\n",
        "# 热区图\n",
        "corrmat = train_data.corr()\n",
        "plt.subplots(figsize = (13,10))\n",
        "sns.heatmap(corrmat)"
      ],
      "metadata": {
        "id": "j_ZNYr5KeEDY"
      },
      "execution_count": null,
      "outputs": []
    },
    {
      "cell_type": "code",
      "source": [
        "# \"\"\"\n",
        "# 预处理\n",
        "# 获得 panda dataframe 格式的训练集和测试集\n",
        "# \"\"\"\n",
        "# from sklearn.model_selection import train_test_split\n",
        "\n",
        "# train = train_data\n",
        "# test = test_data\n",
        "\n",
        "# numeric_attri = train.dtypes[train.dtypes != 'object'].index\n",
        "\n",
        "# # 将非numeric变量进行onehot处理\n",
        "# train = pd.get_dummies(train, dummy_na=True)\n",
        "\n",
        "# # log 房价的值 以减小训练难度\n",
        "# train['SalePrice'] = np.log(train['SalePrice'])\n",
        "\n",
        "# # 将数据normalize成0~1，随后空白数据即可填上0\n",
        "# train[numeric_attri] = train[numeric_attri].apply(\n",
        "#     lambda x: (x-x.mean())/(x.std()))\n",
        "# train[numeric_attri] = train[numeric_attri].fillna(0).astype(float)\n",
        "\n",
        "# # split train_x and train_y\n",
        "# x = train.drop(['Id','SalePrice'], axis = 1)\n",
        "# y = train[['SalePrice']]\n",
        "\n",
        "# # there is no null data left\n",
        "# # print(y.isnull().sum().max())\n",
        "\n",
        "# x_train, x_test, y_train, y_test = train_test_split(x, y, test_size = 0.2, random_state= 42)\n",
        "\n",
        "# print(y_train.head(10))\n",
        "# print(x_train.shape, x_test.shape, y_train.shape, y_test.shape)"
      ],
      "metadata": {
        "id": "fiXjMsIKierP"
      },
      "execution_count": 214,
      "outputs": []
    },
    {
      "cell_type": "code",
      "source": [
        "\"\"\"\n",
        "数据insight\n",
        "\"\"\"\n",
        "# train_data.describe().T\n",
        "# train_data.describe(include='object').T\n",
        "\n",
        "corr = train_data.corr()\n",
        "# plt.figure(figsize=(20,20))\n",
        "# sns.heatmap(corr,annot=True)\n",
        "\n",
        "corr_arr=corr[\"SalePrice\"].sort_values(ascending=False)\n",
        "corr_arr=pd.DataFrame(corr_arr)\n",
        "corr_arr.head(11)\n",
        "\n"
      ],
      "metadata": {
        "colab": {
          "base_uri": "https://localhost:8080/",
          "height": 394
        },
        "id": "ERwsDZQO_-re",
        "outputId": "73793dfc-5345-48b2-ca02-fb31fca7a6a4"
      },
      "execution_count": 223,
      "outputs": [
        {
          "output_type": "execute_result",
          "data": {
            "text/plain": [
              "              SalePrice\n",
              "SalePrice      1.000000\n",
              "OverallQual    0.790982\n",
              "GrLivArea      0.708624\n",
              "GarageCars     0.640409\n",
              "GarageArea     0.623431\n",
              "TotalBsmtSF    0.613581\n",
              "1stFlrSF       0.605852\n",
              "FullBath       0.560664\n",
              "TotRmsAbvGrd   0.533723\n",
              "YearBuilt      0.522897\n",
              "YearRemodAdd   0.507101"
            ],
            "text/html": [
              "\n",
              "  <div id=\"df-949218d5-fb23-4236-9215-4041c9653dc9\">\n",
              "    <div class=\"colab-df-container\">\n",
              "      <div>\n",
              "<style scoped>\n",
              "    .dataframe tbody tr th:only-of-type {\n",
              "        vertical-align: middle;\n",
              "    }\n",
              "\n",
              "    .dataframe tbody tr th {\n",
              "        vertical-align: top;\n",
              "    }\n",
              "\n",
              "    .dataframe thead th {\n",
              "        text-align: right;\n",
              "    }\n",
              "</style>\n",
              "<table border=\"1\" class=\"dataframe\">\n",
              "  <thead>\n",
              "    <tr style=\"text-align: right;\">\n",
              "      <th></th>\n",
              "      <th>SalePrice</th>\n",
              "    </tr>\n",
              "  </thead>\n",
              "  <tbody>\n",
              "    <tr>\n",
              "      <th>SalePrice</th>\n",
              "      <td>1.000000</td>\n",
              "    </tr>\n",
              "    <tr>\n",
              "      <th>OverallQual</th>\n",
              "      <td>0.790982</td>\n",
              "    </tr>\n",
              "    <tr>\n",
              "      <th>GrLivArea</th>\n",
              "      <td>0.708624</td>\n",
              "    </tr>\n",
              "    <tr>\n",
              "      <th>GarageCars</th>\n",
              "      <td>0.640409</td>\n",
              "    </tr>\n",
              "    <tr>\n",
              "      <th>GarageArea</th>\n",
              "      <td>0.623431</td>\n",
              "    </tr>\n",
              "    <tr>\n",
              "      <th>TotalBsmtSF</th>\n",
              "      <td>0.613581</td>\n",
              "    </tr>\n",
              "    <tr>\n",
              "      <th>1stFlrSF</th>\n",
              "      <td>0.605852</td>\n",
              "    </tr>\n",
              "    <tr>\n",
              "      <th>FullBath</th>\n",
              "      <td>0.560664</td>\n",
              "    </tr>\n",
              "    <tr>\n",
              "      <th>TotRmsAbvGrd</th>\n",
              "      <td>0.533723</td>\n",
              "    </tr>\n",
              "    <tr>\n",
              "      <th>YearBuilt</th>\n",
              "      <td>0.522897</td>\n",
              "    </tr>\n",
              "    <tr>\n",
              "      <th>YearRemodAdd</th>\n",
              "      <td>0.507101</td>\n",
              "    </tr>\n",
              "  </tbody>\n",
              "</table>\n",
              "</div>\n",
              "      <button class=\"colab-df-convert\" onclick=\"convertToInteractive('df-949218d5-fb23-4236-9215-4041c9653dc9')\"\n",
              "              title=\"Convert this dataframe to an interactive table.\"\n",
              "              style=\"display:none;\">\n",
              "        \n",
              "  <svg xmlns=\"http://www.w3.org/2000/svg\" height=\"24px\"viewBox=\"0 0 24 24\"\n",
              "       width=\"24px\">\n",
              "    <path d=\"M0 0h24v24H0V0z\" fill=\"none\"/>\n",
              "    <path d=\"M18.56 5.44l.94 2.06.94-2.06 2.06-.94-2.06-.94-.94-2.06-.94 2.06-2.06.94zm-11 1L8.5 8.5l.94-2.06 2.06-.94-2.06-.94L8.5 2.5l-.94 2.06-2.06.94zm10 10l.94 2.06.94-2.06 2.06-.94-2.06-.94-.94-2.06-.94 2.06-2.06.94z\"/><path d=\"M17.41 7.96l-1.37-1.37c-.4-.4-.92-.59-1.43-.59-.52 0-1.04.2-1.43.59L10.3 9.45l-7.72 7.72c-.78.78-.78 2.05 0 2.83L4 21.41c.39.39.9.59 1.41.59.51 0 1.02-.2 1.41-.59l7.78-7.78 2.81-2.81c.8-.78.8-2.07 0-2.86zM5.41 20L4 18.59l7.72-7.72 1.47 1.35L5.41 20z\"/>\n",
              "  </svg>\n",
              "      </button>\n",
              "      \n",
              "  <style>\n",
              "    .colab-df-container {\n",
              "      display:flex;\n",
              "      flex-wrap:wrap;\n",
              "      gap: 12px;\n",
              "    }\n",
              "\n",
              "    .colab-df-convert {\n",
              "      background-color: #E8F0FE;\n",
              "      border: none;\n",
              "      border-radius: 50%;\n",
              "      cursor: pointer;\n",
              "      display: none;\n",
              "      fill: #1967D2;\n",
              "      height: 32px;\n",
              "      padding: 0 0 0 0;\n",
              "      width: 32px;\n",
              "    }\n",
              "\n",
              "    .colab-df-convert:hover {\n",
              "      background-color: #E2EBFA;\n",
              "      box-shadow: 0px 1px 2px rgba(60, 64, 67, 0.3), 0px 1px 3px 1px rgba(60, 64, 67, 0.15);\n",
              "      fill: #174EA6;\n",
              "    }\n",
              "\n",
              "    [theme=dark] .colab-df-convert {\n",
              "      background-color: #3B4455;\n",
              "      fill: #D2E3FC;\n",
              "    }\n",
              "\n",
              "    [theme=dark] .colab-df-convert:hover {\n",
              "      background-color: #434B5C;\n",
              "      box-shadow: 0px 1px 3px 1px rgba(0, 0, 0, 0.15);\n",
              "      filter: drop-shadow(0px 1px 2px rgba(0, 0, 0, 0.3));\n",
              "      fill: #FFFFFF;\n",
              "    }\n",
              "  </style>\n",
              "\n",
              "      <script>\n",
              "        const buttonEl =\n",
              "          document.querySelector('#df-949218d5-fb23-4236-9215-4041c9653dc9 button.colab-df-convert');\n",
              "        buttonEl.style.display =\n",
              "          google.colab.kernel.accessAllowed ? 'block' : 'none';\n",
              "\n",
              "        async function convertToInteractive(key) {\n",
              "          const element = document.querySelector('#df-949218d5-fb23-4236-9215-4041c9653dc9');\n",
              "          const dataTable =\n",
              "            await google.colab.kernel.invokeFunction('convertToInteractive',\n",
              "                                                     [key], {});\n",
              "          if (!dataTable) return;\n",
              "\n",
              "          const docLinkHtml = 'Like what you see? Visit the ' +\n",
              "            '<a target=\"_blank\" href=https://colab.research.google.com/notebooks/data_table.ipynb>data table notebook</a>'\n",
              "            + ' to learn more about interactive tables.';\n",
              "          element.innerHTML = '';\n",
              "          dataTable['output_type'] = 'display_data';\n",
              "          await google.colab.output.renderOutput(dataTable, element);\n",
              "          const docLink = document.createElement('div');\n",
              "          docLink.innerHTML = docLinkHtml;\n",
              "          element.appendChild(docLink);\n",
              "        }\n",
              "      </script>\n",
              "    </div>\n",
              "  </div>\n",
              "  "
            ]
          },
          "metadata": {},
          "execution_count": 223
        }
      ]
    },
    {
      "cell_type": "code",
      "source": [
        "\"\"\"\n",
        "数据清洗：去除无关attribute\n",
        "\"\"\"\n",
        "\n",
        "# train_data.drop(columns=['Id'],axis=1,inplace=True)\n",
        "# train_data.drop(columns=['Id'],axis=1,inplace=True)"
      ],
      "metadata": {
        "id": "g9SPDsGJBR_W"
      },
      "execution_count": null,
      "outputs": []
    },
    {
      "cell_type": "code",
      "source": [
        "\"\"\"\n",
        "预处理2\n",
        "1. 将已经是数值化的数据normalize\n",
        "2. fill object value by None without null value.\n",
        "\"\"\"\n",
        "from copy import deepcopy\n",
        "from sklearn.preprocessing import LabelEncoder\n",
        "from sklearn.model_selection import train_test_split\n",
        "\n",
        "train = deepcopy(train_data)\n",
        "test = deepcopy(test_data)\n",
        "\n",
        "def myPreprocessing(data_set):\n",
        "    # 1. 标准化数值类型的数据\n",
        "    # after normalisation, the mean disappear, \n",
        "    # so we can set the null space to 0.\n",
        "    numeric_features = data_set.dtypes[data_set.dtypes != 'object'].index\n",
        "    data_set[numeric_features] = data_set[numeric_features].apply(\n",
        "        lambda x: (x - x.mean()) / (x.std()))\n",
        "    data_set[numeric_features] = data_set[numeric_features].fillna(0)\n",
        "\n",
        "    # 2. 将非数值类型的数据encode\n",
        "    object_cols=data_set.select_dtypes(include='object')\n",
        "    le = LabelEncoder()\n",
        "    for i in object_cols:\n",
        "        data_set[i]=le.fit_transform(data_set[i])\n",
        "\n",
        "    data_set.astype(float)\n",
        "\n",
        "\n",
        "# split train_x and train_y\n",
        "myPreprocessing(train)\n",
        "x = train.drop(['Id','SalePrice'], axis = 1)\n",
        "y = train[['SalePrice']]\n",
        "\n",
        "# there is no null data left\n",
        "print(train.shape)\n",
        "# print(y.isnull().sum().max())\n",
        "\n",
        "x_train, x_test, y_train, y_test = train_test_split(x, y, test_size = 0.2, random_state= 242)\n",
        "\n",
        "print(train.head(5))\n",
        "# print(x_train.shape, x_test.shape, y_train.shape, y_test.shape)"
      ],
      "metadata": {
        "colab": {
          "base_uri": "https://localhost:8080/"
        },
        "id": "rBBi7PWv1kIe",
        "outputId": "92c70c98-0721-4162-d8eb-73753fddec1b"
      },
      "execution_count": 240,
      "outputs": [
        {
          "output_type": "stream",
          "name": "stdout",
          "text": [
            "(1460, 81)\n",
            "         Id  MSSubClass  MSZoning  LotFrontage   LotArea  Street  Alley  \\\n",
            "0 -1.730272    0.073350         3    -0.207948 -0.207071       1      2   \n",
            "1 -1.727900   -0.872264         3     0.409724 -0.091855       1      2   \n",
            "2 -1.725528    0.073350         3    -0.084413  0.073455       1      2   \n",
            "3 -1.723156    0.309753         3    -0.413838 -0.096864       1      2   \n",
            "4 -1.720785    0.073350         3     0.574436  0.375020       1      2   \n",
            "\n",
            "   LotShape  LandContour  Utilities  ...  PoolArea  PoolQC  Fence  \\\n",
            "0         3            3          0  ... -0.068668       3      4   \n",
            "1         3            3          0  ... -0.068668       3      4   \n",
            "2         0            3          0  ... -0.068668       3      4   \n",
            "3         0            3          0  ... -0.068668       3      4   \n",
            "4         0            3          0  ... -0.068668       3      4   \n",
            "\n",
            "   MiscFeature   MiscVal    MoSold    YrSold  SaleType  SaleCondition  \\\n",
            "0            4 -0.087658 -1.598563  0.138730         8              4   \n",
            "1            4 -0.087658 -0.488943 -0.614228         8              4   \n",
            "2            4 -0.087658  0.990552  0.138730         8              4   \n",
            "3            4 -0.087658 -1.598563 -1.367186         8              0   \n",
            "4            4 -0.087658  2.100173  0.138730         8              4   \n",
            "\n",
            "   SalePrice  \n",
            "0   0.347154  \n",
            "1   0.007286  \n",
            "2   0.535970  \n",
            "3  -0.515105  \n",
            "4   0.869545  \n",
            "\n",
            "[5 rows x 81 columns]\n"
          ]
        }
      ]
    },
    {
      "cell_type": "code",
      "source": [
        "# 对 test 做同样的处理\n",
        "\n",
        "myPreprocessing(test)\n",
        "\n",
        "test.shape\n",
        "# print(test.isnull().sum().max())\n",
        "\n",
        "# print(test.head(10))"
      ],
      "metadata": {
        "colab": {
          "base_uri": "https://localhost:8080/"
        },
        "id": "X6DT-YBefs0m",
        "outputId": "c8ef4f33-9822-4078-d194-1fa2db0daa05"
      },
      "execution_count": 236,
      "outputs": [
        {
          "output_type": "execute_result",
          "data": {
            "text/plain": [
              "(1459, 80)"
            ]
          },
          "metadata": {},
          "execution_count": 236
        }
      ]
    },
    {
      "cell_type": "code",
      "source": [
        "from sklearn.metrics import mean_squared_error "
      ],
      "metadata": {
        "id": "xko6jHMTOyey"
      },
      "execution_count": 184,
      "outputs": []
    },
    {
      "cell_type": "code",
      "source": [
        "#Linear regression model - Linear regression model doesn't seem to be working well\n",
        "\n",
        "from sklearn.linear_model import LinearRegression\n",
        "\n",
        "reg = LinearRegression().fit(x_train, y_train)\n",
        "y_pred = reg.predict(x_test)\n",
        "RMSE_score = mean_squared_error(y_test, y_pred, squared = False)\n",
        "\n",
        "print(RMSE_score)\n",
        "print('--'*10)\n",
        "print(reg.score(x_test, y_test))\n",
        "\n",
        "Score  = 301"
      ],
      "metadata": {
        "colab": {
          "base_uri": "https://localhost:8080/"
        },
        "id": "r_SeK6MqQxta",
        "outputId": "3405bdb7-7199-436e-8567-d6162437dd01"
      },
      "execution_count": 241,
      "outputs": [
        {
          "output_type": "stream",
          "name": "stdout",
          "text": [
            "0.7505892360852195\n",
            "--------------------\n",
            "0.39770600549634016\n"
          ]
        }
      ]
    },
    {
      "cell_type": "code",
      "source": [
        "# Model 3 - Catboost Regression \n",
        "from catboost import CatBoostRegressor\n",
        "\n",
        "catb = CatBoostRegressor(iterations=3500,verbose=1000)\n",
        "catb.fit(x_train, y_train)\n",
        "y_pred = catb.predict(x_test)\n",
        "\n",
        "RMSE_score = mean_squared_error(y_test, y_pred, squared = False)\n",
        "print('--'*10)\n",
        "print(RMSE_score)"
      ],
      "metadata": {
        "id": "sWl8bf_jtw7s",
        "colab": {
          "base_uri": "https://localhost:8080/"
        },
        "outputId": "9f7b5601-cf84-49e3-c580-bc0c9d4de55f"
      },
      "execution_count": 242,
      "outputs": [
        {
          "output_type": "stream",
          "name": "stdout",
          "text": [
            "Learning rate set to 0.015153\n",
            "0:\tlearn: 0.9984862\ttotal: 43ms\tremaining: 2m 30s\n",
            "1000:\tlearn: 0.1429339\ttotal: 14.6s\tremaining: 36.5s\n",
            "2000:\tlearn: 0.0839213\ttotal: 23s\tremaining: 17.2s\n",
            "3000:\tlearn: 0.0559104\ttotal: 28s\tremaining: 4.66s\n",
            "3499:\tlearn: 0.0463551\ttotal: 30.5s\tremaining: 0us\n",
            "0.5210991173720642\n",
            "--------------------\n",
            "-601.3508009514136\n"
          ]
        }
      ]
    },
    {
      "cell_type": "code",
      "source": [
        "# Model 4 - XGBoost Regression \n",
        "from xgboost import XGBRegressor\n",
        "\n",
        "xgb_reg = XGBRegressor(n_estimators=3000, learning_rate=0.005)\n",
        "xgb_reg.fit(x_train, y_train, early_stopping_rounds=5, eval_set=[(x_test, y_test)],verbose = 100)\n",
        "y_pred = xgb_reg.predict(x_test)\n",
        "\n",
        "RMSE_score = mean_squared_error(y_test, y_pred, squared = False)\n",
        "print(RMSE_score)\n",
        "print('--'*10)\n",
        "print(catb.score(x_test, y_test))"
      ],
      "metadata": {
        "colab": {
          "base_uri": "https://localhost:8080/"
        },
        "id": "OABnbE09QEyU",
        "outputId": "d5b34c4e-a1cd-4f53-aea4-9d0829d6f21d"
      },
      "execution_count": 243,
      "outputs": [
        {
          "output_type": "stream",
          "name": "stdout",
          "text": [
            "[0]\tvalidation_0-rmse:1.11208\n",
            "[100]\tvalidation_0-rmse:0.80026\n",
            "[200]\tvalidation_0-rmse:0.64880\n",
            "[300]\tvalidation_0-rmse:0.58278\n",
            "[400]\tvalidation_0-rmse:0.55465\n",
            "[500]\tvalidation_0-rmse:0.54732\n",
            "[513]\tvalidation_0-rmse:0.54726\n",
            "0.5472279165460414\n"
          ]
        }
      ]
    }
  ]
}