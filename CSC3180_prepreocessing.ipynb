{
  "nbformat": 4,
  "nbformat_minor": 0,
  "metadata": {
    "colab": {
      "name": "CSC3180_prepreocessing.ipynb",
      "provenance": [],
      "collapsed_sections": [],
      "authorship_tag": "ABX9TyN0IcwL3NN62nq3ouBgOKRr",
      "include_colab_link": true
    },
    "kernelspec": {
      "name": "python3",
      "display_name": "Python 3"
    },
    "language_info": {
      "name": "python"
    }
  },
  "cells": [
    {
      "cell_type": "markdown",
      "metadata": {
        "id": "view-in-github",
        "colab_type": "text"
      },
      "source": [
        "<a href=\"https://colab.research.google.com/github/HuaichenOvO/ML/blob/main/CSC3180_prepreocessing.ipynb\" target=\"_parent\"><img src=\"https://colab.research.google.com/assets/colab-badge.svg\" alt=\"Open In Colab\"/></a>"
      ]
    },
    {
      "cell_type": "markdown",
      "source": [
        "致力于使用机器学习来为房价预测提供公正的、透明的模型。与中介无关，本模型用以帮助普通人。\n",
        "\n",
        "本PJ的亮点在于它\n",
        "技术上实现了xxx\n",
        "结论上发现了xxx\n",
        "\n",
        "<!-- bayesian thinking:\n",
        "如果房价受A因素的波动显著地高于其他房子的平均水平，那么可以认为此时期内，A相关的 -->"
      ],
      "metadata": {
        "id": "5Owknrf0wJoF"
      }
    },
    {
      "cell_type": "code",
      "source": [
        "import numpy as np\n",
        "import pandas as pd\n",
        "import seaborn as sns\n",
        "import matplotlib.pyplot as plt\n",
        "\n",
        "import warnings\n",
        "warnings.filterwarnings('ignore')"
      ],
      "metadata": {
        "id": "gKVujwdNhDnQ"
      },
      "execution_count": 76,
      "outputs": []
    },
    {
      "cell_type": "code",
      "execution_count": 77,
      "metadata": {
        "id": "traVP3-nveOW"
      },
      "outputs": [],
      "source": [
        "import hashlib\n",
        "import os\n",
        "import tarfile\n",
        "import zipfile\n",
        "import requests\n",
        "\n",
        "\n",
        "\n",
        "DATA_HUB = dict()\n",
        "DATA_URL = 'http://d2l-data.s3-accelerate.amazonaws.com/'\n",
        "\n",
        "def download(name, cache_dir=os.path.join('..', 'data')): \n",
        "    \"\"\"下载一个DATA_HUB中的文件，返回本地文件名。\"\"\"\n",
        "    assert name in DATA_HUB, f\"{name} 不存在于 {DATA_HUB}.\"\n",
        "    url, sha1_hash = DATA_HUB[name]\n",
        "    os.makedirs(cache_dir, exist_ok=True)\n",
        "    fname = os.path.join(cache_dir, url.split('/')[-1])\n",
        "    if os.path.exists(fname):\n",
        "        sha1 = hashlib.sha1()\n",
        "        with open(fname, 'rb') as f:\n",
        "            while True:\n",
        "                data = f.read(1048576)\n",
        "                if not data:\n",
        "                    break\n",
        "                sha1.update(data)\n",
        "        if sha1.hexdigest() == sha1_hash:\n",
        "            return fname  # Hit cache\n",
        "    print(f'正在从{url}下载{fname}...')\n",
        "    r = requests.get(url, stream=True, verify=True)\n",
        "    with open(fname, 'wb') as f:\n",
        "        f.write(r.content)\n",
        "    return fname\n",
        "\n",
        "def download_extract(name, folder=None):\n",
        "    fname = download(name)\n",
        "    base_dir = os.path.dirname(fname)\n",
        "    data_dir, ext = os.path.splitext(fname)\n",
        "    if ext == '.zip':\n",
        "        fp = zipfile.ZipFile(fname, 'r')\n",
        "    elif ext in ('.tar', '.gz'):\n",
        "        fp = tarfile.open(fname, 'r')\n",
        "    else:\n",
        "        assert False, '只有zip/tar文件可以被解压缩。'\n",
        "    fp.extractall(base_dir)\n",
        "    return os.path.join(base_dir, folder) if folder else data_dir\n",
        "\n",
        "def download_all():\n",
        "    \"\"\"下载DATA_HUB中的所有文件。\"\"\"\n",
        "    for name in DATA_HUB:\n",
        "        download(name)"
      ]
    },
    {
      "cell_type": "code",
      "source": [
        "# !pip install d2l\n",
        "# !pip install matplotlib==3.0.0\n",
        "# !pip install --upgrade mxnet\n",
        "# !pip install autogluon\n",
        "# !pip install torch"
      ],
      "metadata": {
        "id": "vW9qZIcqaSsR"
      },
      "execution_count": 78,
      "outputs": []
    },
    {
      "cell_type": "code",
      "source": [
        "%matplotlib inline\n",
        "import numpy as np\n",
        "import pandas as pd\n",
        "import torch\n",
        "from torch import nn\n",
        "from d2l import torch as d2l\n",
        "\n",
        "DATA_HUB['kaggle_house_train'] = (  \n",
        "    DATA_URL + 'kaggle_house_pred_train.csv',\n",
        "    '585e9cc93e70b39160e7921475f9bcd7d31219ce')\n",
        "\n",
        "DATA_HUB['kaggle_house_test'] = (  \n",
        "    DATA_URL + 'kaggle_house_pred_test.csv',\n",
        "    'fa19780a7b011d9b009e8bff8e99922a8ee2eb90')\n",
        "\n",
        "train_data = pd.read_csv(download('kaggle_house_train'))\n",
        "test_data = pd.read_csv(download('kaggle_house_test'))"
      ],
      "metadata": {
        "id": "N_RSXvJLaLcJ"
      },
      "execution_count": 161,
      "outputs": []
    },
    {
      "cell_type": "code",
      "source": [
        "\"\"\"\n",
        "数据可视化 了解大概印象\n",
        "\"\"\"\n",
        "\n",
        "# train_data.info()\n",
        "# train_data.head(2)\n",
        "# train_data['SalePrice']\n",
        "\n",
        "# 热区图\n",
        "corrmat = train_data.corr()\n",
        "plt.subplots(figsize = (13,10))\n",
        "sns.heatmap(corrmat)"
      ],
      "metadata": {
        "id": "j_ZNYr5KeEDY"
      },
      "execution_count": null,
      "outputs": []
    },
    {
      "cell_type": "code",
      "source": [
        "\"\"\"\n",
        "预处理\n",
        "获得 panda dataframe 格式的训练集和测试集\n",
        "\"\"\"\n",
        "from sklearn.model_selection import train_test_split\n",
        "\n",
        "# train_data['SalePrice'] = np.log(train_data['SalePrice'])\n",
        "\n",
        "# train_data['SalePrice'] = train_data.apply(\n",
        "#     lambda x:np.log(x['SalePrice']),axis=1)\n",
        "\n",
        "# 将数据normalize成0~1，随后空白数据即可填上0\n",
        "numeric_attri = train_data.dtypes[train_data.dtypes != 'object'].index\n",
        "train_data[numeric_attri] = train_data[numeric_attri].apply(\n",
        "    lambda x: (x - x.mean()) / (x.std()))\n",
        "# 将非numeric变量进行onehot处理\n",
        "train_data = pd.get_dummies(train_data, dummy_na=True)\n",
        "train_data[numeric_attri] = train_data[numeric_attri].fillna(0)\n",
        "train_data.astype(float)\n",
        "\n",
        "# split train_x and train_y\n",
        "x = train_data.drop(['Id','SalePrice'], axis = 1)\n",
        "y = train_data[['SalePrice']].astype(float)\n",
        "\n",
        "print(y.head(10))\n",
        "\n",
        "# there is no null data left\n",
        "# print(y.isnull().sum().max())\n",
        "\n",
        "x_train, x_test, y_train, y_test = train_test_split(x, y, test_size = 0.1, random_state= 42)"
      ],
      "metadata": {
        "id": "fiXjMsIKierP",
        "colab": {
          "base_uri": "https://localhost:8080/"
        },
        "outputId": "2c3e1b9a-c227-4cac-8767-4e0dbb7b1ed4"
      },
      "execution_count": 166,
      "outputs": [
        {
          "output_type": "stream",
          "name": "stdout",
          "text": [
            "   SalePrice\n",
            "0   0.347154\n",
            "1   0.007286\n",
            "2   0.535970\n",
            "3  -0.515105\n",
            "4   0.869545\n",
            "5  -0.477341\n",
            "6   1.587045\n",
            "7   0.240159\n",
            "8  -0.642241\n",
            "9  -0.792034\n"
          ]
        }
      ]
    },
    {
      "cell_type": "code",
      "source": [
        "# 对 test data 进行同样的处理\n",
        "test_data = pd.get_dummies(test_data, dummy_na=True)\n",
        "numeric_attri = test_data.dtypes[test_data.dtypes != 'object'].index\n",
        "test_data[numeric_attri] = test_data[numeric_attri].apply(\n",
        "    lambda x: (x - x.mean()) / (x.std()))\n",
        "test_data[numeric_attri] = test_data[numeric_attri].fillna(0)\n",
        "test_data.astype(float)"
      ],
      "metadata": {
        "id": "X6DT-YBefs0m"
      },
      "execution_count": null,
      "outputs": []
    },
    {
      "cell_type": "code",
      "source": [
        "from sklearn.metrics import mean_squared_error "
      ],
      "metadata": {
        "id": "xko6jHMTOyey"
      },
      "execution_count": 82,
      "outputs": []
    },
    {
      "cell_type": "code",
      "source": [
        "#Linear regression model - Linear regression model doesn't seem to be working well\n",
        "\n",
        "from sklearn.linear_model import LinearRegression\n",
        "from sklearn.metrics import mean_squared_error \n",
        "reg = LinearRegression().fit(x_train, y_train)\n",
        "y_pred = reg.predict(x_test)\n",
        "RMSE_score = mean_squared_error(y_test, y_pred, squared = False)\n",
        "print(RMSE_score)\n",
        "\n",
        "Score  = 301"
      ],
      "metadata": {
        "colab": {
          "base_uri": "https://localhost:8080/"
        },
        "id": "r_SeK6MqQxta",
        "outputId": "58cb8889-c0e1-4976-f37b-a1d31b54fa84"
      },
      "execution_count": 165,
      "outputs": [
        {
          "output_type": "stream",
          "name": "stdout",
          "text": [
            "1627823803.0084786\n"
          ]
        }
      ]
    },
    {
      "cell_type": "code",
      "source": [
        "# Model 3 - Catboost Regression \n",
        "from catboost import CatBoostRegressor\n",
        "\n",
        "catb = CatBoostRegressor(iterations=3500,verbose=1000)\n",
        "catb.fit(x_train, y_train)\n",
        "y_pred = catb.predict(x_test)\n",
        "\n",
        "RMSE_score = mean_squared_error(y_test, y_pred, squared = False)\n",
        "print(RMSE_score)"
      ],
      "metadata": {
        "id": "sWl8bf_jtw7s",
        "colab": {
          "base_uri": "https://localhost:8080/"
        },
        "outputId": "006fb4f3-c5b7-4de6-acb2-9810a26f3ab5"
      },
      "execution_count": 123,
      "outputs": [
        {
          "output_type": "stream",
          "name": "stdout",
          "text": [
            "Learning rate set to 0.015438\n",
            "0:\tlearn: 0.9642050\ttotal: 8.33ms\tremaining: 29.1s\n",
            "1000:\tlearn: 0.1605242\ttotal: 6.34s\tremaining: 15.8s\n",
            "2000:\tlearn: 0.1017707\ttotal: 12.7s\tremaining: 9.52s\n",
            "3000:\tlearn: 0.0698663\ttotal: 19s\tremaining: 3.16s\n",
            "3499:\tlearn: 0.0592918\ttotal: 22.1s\tremaining: 0us\n",
            "0.3495296097351661\n"
          ]
        }
      ]
    },
    {
      "cell_type": "code",
      "source": [
        "# Model 4 - XGBoost Regression \n",
        "from xgboost import XGBRegressor\n",
        "\n",
        "xgb_reg = XGBRegressor(n_estimators=3000, learning_rate=0.005)\n",
        "xgb_reg.fit(x_train, y_train, early_stopping_rounds=5, eval_set=[(x_test, y_test)],verbose = 100)\n",
        "y_pred = xgb_reg.predict(x_test)\n",
        "\n",
        "RMSE_score = mean_squared_error(y_test, y_pred, squared = False)\n",
        "print(RMSE_score)"
      ],
      "metadata": {
        "colab": {
          "base_uri": "https://localhost:8080/"
        },
        "id": "OABnbE09QEyU",
        "outputId": "eda25e5b-0c63-4569-ef80-06cc1ddb8406"
      },
      "execution_count": 124,
      "outputs": [
        {
          "output_type": "stream",
          "name": "stdout",
          "text": [
            "[0]\tvalidation_0-rmse:1.28886\n",
            "[100]\tvalidation_0-rmse:0.89821\n",
            "[200]\tvalidation_0-rmse:0.65869\n",
            "[300]\tvalidation_0-rmse:0.51688\n",
            "[400]\tvalidation_0-rmse:0.44162\n",
            "[500]\tvalidation_0-rmse:0.39789\n",
            "[600]\tvalidation_0-rmse:0.37253\n",
            "[700]\tvalidation_0-rmse:0.35887\n",
            "[800]\tvalidation_0-rmse:0.35017\n",
            "[900]\tvalidation_0-rmse:0.34666\n",
            "[1000]\tvalidation_0-rmse:0.34389\n",
            "[1100]\tvalidation_0-rmse:0.34201\n",
            "[1199]\tvalidation_0-rmse:0.34077\n",
            "0.3407254198014607\n"
          ]
        }
      ]
    }
  ]
}